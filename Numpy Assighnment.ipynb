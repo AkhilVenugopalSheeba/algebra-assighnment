{
 "cells": [
  {
   "cell_type": "code",
   "execution_count": 124,
   "id": "7a17ea4a-37be-445d-9e8b-a039cb827311",
   "metadata": {},
   "outputs": [
    {
     "name": "stdout",
     "output_type": "stream",
     "text": [
      "[23 40 11 16 10 45 26 12 21 20 21 33 30 39 39 21 43 22 28 42]\n",
      "Mean =  27.1\n",
      "Standard Deviation =  10.949429208867466\n"
     ]
    }
   ],
   "source": [
    " # NUMPY ASSIGHNMENT\n",
    "\n",
    "\n",
    "\n",
    "\n",
    "import numpy as np\n",
    "\n",
    "# Question 1\n",
    "\n",
    "a = np.random.randint(10,50,20)\n",
    "mean = np.mean(a)\n",
    "std_dev = np.std(a)\n",
    "sum_a = np.sum(a)\n",
    "print(a)\n",
    "print(\"Mean = \",mean)\n",
    "print(\"Standard Deviation = \",std_dev)\n"
   ]
  },
  {
   "cell_type": "code",
   "execution_count": 123,
   "id": "f46b4f50-19fd-4032-a7e3-88d4f1a11cba",
   "metadata": {},
   "outputs": [
    {
     "name": "stdout",
     "output_type": "stream",
     "text": [
      "6 * 5 =  [[0.41292353 0.85606337 0.9547912  0.21692425 0.71611025]\n",
      " [0.34689893 0.40807023 0.57976833 0.41695095 0.87969554]\n",
      " [0.47845633 0.50441358 0.96718456 0.25708041 0.60777277]\n",
      " [0.98546669 0.56773973 0.39014408 0.92492962 0.11438666]\n",
      " [0.07051848 0.54921089 0.80356563 0.2922425  0.16915651]\n",
      " [0.63306808 0.79564517 0.52656841 0.55745719 0.35552238]]\n",
      "5 * 6 =   [[0.41292353 0.85606337 0.9547912  0.21692425 0.71611025 0.34689893]\n",
      " [0.40807023 0.57976833 0.41695095 0.87969554 0.47845633 0.50441358]\n",
      " [0.96718456 0.25708041 0.60777277 0.98546669 0.56773973 0.39014408]\n",
      " [0.92492962 0.11438666 0.07051848 0.54921089 0.80356563 0.2922425 ]\n",
      " [0.16915651 0.63306808 0.79564517 0.52656841 0.55745719 0.35552238]]\n"
     ]
    }
   ],
   "source": [
    "# Question 2 \n",
    "\n",
    "a = np.random.rand(6,5)\n",
    "b = a.reshape(5,6)\n",
    "print (\"6 * 5 = \",a)\n",
    "print (\"5 * 6 =  \",b)"
   ]
  },
  {
   "cell_type": "code",
   "execution_count": 121,
   "id": "eb8fee6a-be7a-4d05-8afa-7fda865854e0",
   "metadata": {},
   "outputs": [
    {
     "name": "stdout",
     "output_type": "stream",
     "text": [
      "Main array:\n",
      " [[ 1  2  3  4  5]\n",
      " [ 6  7  8  9 10]\n",
      " [11 12 13 14 15]\n",
      " [16 17 18 19 20]\n",
      " [21 22 23 24 25]]\n",
      "Sub array:\n",
      " [[12 13 14]\n",
      " [17 18 19]\n",
      " [22 23 24]]\n"
     ]
    }
   ],
   "source": [
    "# Question 3\n",
    "\n",
    "a = np.arange(1,26).reshape(5,5)\n",
    "b = a[2:5, 1:4]\n",
    "print(\"Main array:\\n\",a)\n",
    "print (\"Sub array:\\n\",b)\n",
    "       \n"
   ]
  },
  {
   "cell_type": "code",
   "execution_count": 122,
   "id": "3b28d249-f529-4e7e-9bed-e27702442012",
   "metadata": {},
   "outputs": [
    {
     "name": "stdout",
     "output_type": "stream",
     "text": [
      "Random Array 1 [70 99 99 71 57 74 37 57 88 20]\n",
      "Random Array 2 [43  7 54 20 55 91 64 33 74 87]\n",
      "Array 1 + Array 2  [113 106 153  91 112 165 101  90 162 107]\n",
      "(Array 1 + Array 2)*2  [226 212 306 182 224 330 202 180 324 214]\n"
     ]
    }
   ],
   "source": [
    "# Question 4\n",
    "\n",
    "a = np.random.randint(1,101,10)\n",
    "b = np.random.randint(1,101,10)\n",
    "c = (a+b)\n",
    "d = (a+b)*2\n",
    "print(\"Random Array 1\",a)\n",
    "print(\"Random Array 2\",b)\n",
    "print(\"Array 1 + Array 2 \",c)\n",
    "print(\"(Array 1 + Array 2)*2 \",d)"
   ]
  },
  {
   "cell_type": "code",
   "execution_count": 138,
   "id": "c59d08f7-9678-4b62-9315-5682e4ed1e97",
   "metadata": {},
   "outputs": [
    {
     "name": "stdout",
     "output_type": "stream",
     "text": [
      "2D Array 'A':\n",
      " [[8 2 6 8]\n",
      " [5 5 1 9]\n",
      " [7 6 9 1]]\n",
      "1D Array 'B':\n",
      " [1 2 3 4]\n",
      "(A+B):\n",
      " [[ 9  4  9 12]\n",
      " [ 6  7  4 13]\n",
      " [ 8  8 12  5]]\n",
      "In NumPy, broadcasting allows arrays of different shapes to be combined in arithmetic operations.\n",
      " When you add a 1D array B of shape (4,) to a 2D array A of shape (3, 4),\n",
      " NumPy automatically 'broadcasts' the 1D array B to match the shape of A along the appropriate dimension.\n"
     ]
    }
   ],
   "source": [
    "# Question 5\n",
    "\n",
    "a = np.random.randint(1,11,(3,4))\n",
    "b = np.array([1,2,3,4])\n",
    "c = a+b\n",
    "\n",
    "print(\"2D Array 'A':\\n\",a)\n",
    "\n",
    "print(\"1D Array 'B':\\n\",b)\n",
    "\n",
    "print(\"(A+B):\\n\",c)\n",
    "print(\"In NumPy, broadcasting allows arrays of different shapes to be combined in arithmetic operations.\\n When you add a 1D array B of shape (4,) to a 2D array A of shape (3, 4),\\n NumPy automatically 'broadcasts' the 1D array B to match the shape of A along the appropriate dimension.\")\n"
   ]
  },
  {
   "cell_type": "code",
   "execution_count": 156,
   "id": "8c19b44a-46a9-477e-bd7f-a07a27d86005",
   "metadata": {},
   "outputs": [
    {
     "name": "stdout",
     "output_type": "stream",
     "text": [
      "Matrix :\n",
      " [[15 76 78]\n",
      " [91 30 26]\n",
      " [20 60 67]]\n",
      "Sum of each row: [169 147 147]\n",
      "Row with max sum [15 76 78]\n",
      "Max value in that row 78\n"
     ]
    }
   ],
   "source": [
    "# Question 6 \n",
    "\n",
    "a = np.random.randint(1,101,(3,3))\n",
    "b = np.sum(a,axis=1)\n",
    "c = np.argmax(b)\n",
    "max_sum_row = a[c]\n",
    "max_value = np.max(max_sum_row)\n",
    "\n",
    "print (\"Matrix :\\n\",a)\n",
    "print (\"Sum of each row:\",b)\n",
    "print(\"Row with max sum\",max_sum_row)\n",
    "print (\"Max value in that row\",max_value)"
   ]
  },
  {
   "cell_type": "code",
   "execution_count": 163,
   "id": "49832ab3-8273-4a5b-b2fb-2630a8ceb4dc",
   "metadata": {},
   "outputs": [
    {
     "name": "stdout",
     "output_type": "stream",
     "text": [
      "Matrix A:\n",
      " [[6 5]\n",
      " [4 5]]\n",
      "Matrix B:\n",
      " [[3 6]\n",
      " [3 7]]\n",
      "Matrix Multiplication\n",
      ": [[33 71]\n",
      " [27 59]]\n"
     ]
    }
   ],
   "source": [
    "# Question 7\n",
    "\n",
    "a = np.random.randint(1,10,(2,2))\n",
    "b = np.random.randint(1,10,(2,2))\n",
    "c= np.dot(a,b)\n",
    "print(\"Matrix A:\\n\",a)\n",
    "print(\"Matrix B:\\n\",b)\n",
    "print(\"Matrix Multiplication\\n:\",c)"
   ]
  },
  {
   "cell_type": "code",
   "execution_count": 166,
   "id": "290512d1-6b7a-4a2d-85c6-5f7aefef45c2",
   "metadata": {},
   "outputs": [
    {
     "name": "stdout",
     "output_type": "stream",
     "text": [
      "Array:\n",
      " [[36 37 23 40 15  3]\n",
      " [37 36 15 31 11  5]\n",
      " [47 30 40 27 46  8]\n",
      " [19 19  3 48 45 14]\n",
      " [31 46 13 31 28 35]\n",
      " [46 24 47 45  5 12]]\n",
      "Greater than 25:\n",
      " [36 37 40 37 36 31 47 30 40 27 46 48 45 31 46 31 28 35 46 47 45]\n"
     ]
    }
   ],
   "source": [
    "# Question 8\n",
    "\n",
    "a = np.random.randint(1,50,(6,6))\n",
    "b = a[a>25]\n",
    "\n",
    "print(\"Array:\\n\",a)\n",
    "print(\"Greater than 25:\\n\",b)"
   ]
  },
  {
   "cell_type": "code",
   "execution_count": 181,
   "id": "2320f2a8-46cf-4bb3-ab1d-f25ce0753d5f",
   "metadata": {},
   "outputs": [
    {
     "name": "stdout",
     "output_type": "stream",
     "text": [
      "5*5:\n",
      " [[0.12343745 0.8745065  0.0597403  0.81944938 0.49920102]\n",
      " [0.48077591 0.95930192 0.31357043 0.21879121 0.28147059]\n",
      " [0.59180157 0.37066402 0.44569116 0.1386031  0.69460968]\n",
      " [0.0231157  0.81107423 0.49965631 0.64500842 0.33448359]\n",
      " [0.49199539 0.03349621 0.02081601 0.28092341 0.49914878]]\n",
      "Row median: [0.49920102 0.31357043 0.44569116 0.49965631 0.28092341]\n",
      "Coloum median : [0.48077591 0.81107423 0.31357043 0.28092341 0.49914878]\n",
      "variance coloum : [0.1149746  0.07216105 0.0366415  0.07312811 0.04396511]\n",
      "variance row: [0.1149746  0.07216105 0.0366415  0.07312811 0.04396511]\n"
     ]
    }
   ],
   "source": [
    "# Question 9\n",
    "\n",
    "a = np.random.rand(5,5)\n",
    "median_row = np.median(a,axis=1)\n",
    "median_coloum = np.median(a,axis=0)\n",
    "\n",
    "variance_row = np.var(a,axis=1)\n",
    "variance_coloum = np.var(a,axis=1)\n",
    "\n",
    "print(\"5*5:\\n\",a)\n",
    "print (\"Row median:\",median_row)\n",
    "print (\"Coloum median :\",median_coloum)\n",
    "print(\"variance coloum :\",variance_coloum)\n",
    "print(\"variance row:\",variance_row)"
   ]
  },
  {
   "cell_type": "code",
   "execution_count": 188,
   "id": "4a21dce5-b2bf-4fa9-b684-b1bf1438b755",
   "metadata": {},
   "outputs": [
    {
     "name": "stdout",
     "output_type": "stream",
     "text": [
      "Matrix : \n",
      " [[0.125      0.33333333 0.125     ]\n",
      " [1.         0.25       0.2       ]\n",
      " [0.25       0.11111111 0.14285714]]\n",
      "Subtracted Matrix :\n",
      " [[ 6  1  6]\n",
      " [-1  2  3]\n",
      " [ 2  7  5]]\n",
      "Squared Matrix :\n",
      " [[64  9 64]\n",
      " [ 1 16 25]\n",
      " [16 81 49]]\n",
      "Reciprocal of Matrix :\n",
      " [[0.125      0.33333333 0.125     ]\n",
      " [1.         0.25       0.2       ]\n",
      " [0.25       0.11111111 0.14285714]]\n"
     ]
    }
   ],
   "source": [
    "# Question 10\n",
    "\n",
    "a = np.random.randint(1,10,(3,3))\n",
    "sub_a = a -2\n",
    "sqr_a = a ** 2\n",
    "a = np.reciprocal(a.astype(float))\n",
    "\n",
    "print (\"Matrix : \\n\",a)\n",
    "print (\"Subtracted Matrix :\\n\", sub_a)\n",
    "print (\"Squared Matrix :\\n\",sqr_a)\n",
    "print (\"Reciprocal of Matrix :\\n\",a)"
   ]
  },
  {
   "cell_type": "code",
   "execution_count": 9,
   "id": "a1f57682-35d0-4a1a-95d8-86bebbde4cad",
   "metadata": {},
   "outputs": [
    {
     "name": "stdout",
     "output_type": "stream",
     "text": [
      "    mpg  cylinders  displacement horsepower  weight  acceleration  model year  \\\n",
      "0  18.0          8         307.0        130    3504          12.0          70   \n",
      "1  15.0          8         350.0        165    3693          11.5          70   \n",
      "2  18.0          8         318.0        150    3436          11.0          70   \n",
      "3  16.0          8         304.0        150    3433          12.0          70   \n",
      "4  17.0          8         302.0        140    3449          10.5          70   \n",
      "5  15.0          8         429.0        198    4341          10.0          70   \n",
      "6  14.0          8         454.0        220    4354           9.0          70   \n",
      "7  14.0          8         440.0        215    4312           8.5          70   \n",
      "8  14.0          8         455.0        225    4425          10.0          70   \n",
      "9  15.0          8         390.0        190    3850           8.5          70   \n",
      "\n",
      "   origin                   car name  \n",
      "0       1  chevrolet chevelle malibu  \n",
      "1       1          buick skylark 320  \n",
      "2       1         plymouth satellite  \n",
      "3       1              amc rebel sst  \n",
      "4       1                ford torino  \n",
      "5       1           ford galaxie 500  \n",
      "6       1           chevrolet impala  \n",
      "7       1          plymouth fury iii  \n",
      "8       1           pontiac catalina  \n",
      "9       1         amc ambassador dpl  \n",
      "total rows 398,Total coloum 9\n",
      "              mpg   cylinders  displacement       weight  acceleration  \\\n",
      "count  398.000000  398.000000    398.000000   398.000000    398.000000   \n",
      "mean    23.514573    5.454774    193.425879  2970.424623     15.568090   \n",
      "std      7.815984    1.701004    104.269838   846.841774      2.757689   \n",
      "min      9.000000    3.000000     68.000000  1613.000000      8.000000   \n",
      "25%     17.500000    4.000000    104.250000  2223.750000     13.825000   \n",
      "50%     23.000000    4.000000    148.500000  2803.500000     15.500000   \n",
      "75%     29.000000    8.000000    262.000000  3608.000000     17.175000   \n",
      "max     46.600000    8.000000    455.000000  5140.000000     24.800000   \n",
      "\n",
      "       model year      origin  \n",
      "count  398.000000  398.000000  \n",
      "mean    76.010050    1.572864  \n",
      "std      3.697627    0.802055  \n",
      "min     70.000000    1.000000  \n",
      "25%     73.000000    1.000000  \n",
      "50%     76.000000    1.000000  \n",
      "75%     79.000000    2.000000  \n",
      "max     82.000000    3.000000  \n"
     ]
    }
   ],
   "source": [
    "# PANDAS ASSIGNMENT\n",
    "\n",
    "\n",
    "\n",
    "\n",
    "# Question 1\n",
    "\n",
    "\n",
    "import pandas as pd\n",
    "\n",
    "df = pd.read_csv(\"auto-mpg.csv\")\n",
    "print (df.head(10))\n",
    "print(f\"total rows {df.shape[0]},Total coloum {df.shape[1]}\")\n",
    "print(df.describe())\n",
    "\n",
    "\n"
   ]
  },
  {
   "cell_type": "code",
   "execution_count": 26,
   "id": "af35be74-026a-4242-9dac-15743cdfc669",
   "metadata": {},
   "outputs": [
    {
     "name": "stdout",
     "output_type": "stream",
     "text": [
      "              car name  weight   mpg\n",
      "167     toyota corolla    2171  29.0\n",
      "168         ford pinto    2639  23.0\n",
      "169        amc gremlin    2914  20.0\n",
      "170      pontiac astro    2592  23.0\n",
      "171      toyota corona    2702  24.0\n",
      "172  volkswagen dasher    2223  25.0\n",
      "173         datsun 710    2545  24.0\n",
      "174         ford pinto    2984  18.0\n",
      "175  volkswagen rabbit    1937  29.0\n",
      "177         audi 100ls    2694  23.0\n",
      "178        peugeot 504    2957  23.0\n",
      "179        volvo 244dl    2945  22.0\n",
      "180          saab 99le    2671  25.0\n",
      "181   honda civic cvcc    1795  33.0\n"
     ]
    }
   ],
   "source": [
    "# Question 2\n",
    "\n",
    "\n",
    "filtered_car = df[(df[\"model year\"] == 75) & (df[\"weight\"] <3000)]\n",
    "filtered = filtered_car[[\"car name\",\"weight\", \"mpg\"]]\n",
    "\n",
    "print (filtered)"
   ]
  },
  {
   "cell_type": "code",
   "execution_count": 33,
   "id": "52fc09b7-dd5c-4b81-95cd-fbbae22653a9",
   "metadata": {},
   "outputs": [
    {
     "name": "stdout",
     "output_type": "stream",
     "text": [
      "mpg             0\n",
      "cylinders       0\n",
      "displacement    0\n",
      "horsepower      6\n",
      "weight          0\n",
      "acceleration    0\n",
      "model year      0\n",
      "origin          0\n",
      "car name        0\n",
      "dtype: int64\n"
     ]
    }
   ],
   "source": [
    "# Question 3\n",
    "\n",
    "\n",
    "df[\"horsepower\"]= pd.to_numeric(df[\"horsepower\"],errors = \"coerce\")\n",
    "df.loc[:,\"horsepower\"].fillna(df[\"horsepower\"].median())\n",
    "print(df.isnull().sum())\n",
    "\n"
   ]
  },
  {
   "cell_type": "code",
   "execution_count": 37,
   "id": "19ab9c76-4f44-46e6-b2fb-0fc004adc1db",
   "metadata": {},
   "outputs": [
    {
     "name": "stdout",
     "output_type": "stream",
     "text": [
      "    mpg  cylinders  displacement  horsepower  weight  acceleration  \\\n",
      "0  18.0          8         307.0       130.0    3504          12.0   \n",
      "1  15.0          8         350.0       165.0    3693          11.5   \n",
      "2  18.0          8         318.0       150.0    3436          11.0   \n",
      "3  16.0          8         304.0       150.0    3433          12.0   \n",
      "4  17.0          8         302.0       140.0    3449          10.5   \n",
      "\n",
      "   model year  origin                   car name  power-to weight_ratio  \\\n",
      "0          70       1  chevrolet chevelle malibu               0.037100   \n",
      "1          70       1          buick skylark 320               0.044679   \n",
      "2          70       1         plymouth satellite               0.043655   \n",
      "3          70       1              amc rebel sst               0.043694   \n",
      "4          70       1                ford torino               0.040591   \n",
      "\n",
      "   power_to_weight_ratio  \n",
      "0               0.037100  \n",
      "1               0.044679  \n",
      "2               0.043655  \n",
      "3               0.043694  \n",
      "4               0.040591  \n"
     ]
    }
   ],
   "source": [
    "# Question 4\n",
    "\n",
    "\n",
    "df[\"power_to_weight_ratio\"] = df[\"horsepower\"] / df[\"weight\"]\n",
    "print(df.head())"
   ]
  },
  {
   "cell_type": "code",
   "execution_count": 41,
   "id": "7e9f95e7-d16f-4e39-a077-ba089ea57c9a",
   "metadata": {},
   "outputs": [
    {
     "name": "stdout",
     "output_type": "stream",
     "text": [
      "origin\n",
      "1    20.083534\n",
      "2    27.891429\n",
      "3    30.450633\n",
      "Name: mpg, dtype: float64\n"
     ]
    }
   ],
   "source": [
    "# Question 5\n",
    "\n",
    "mean = df.groupby(\"origin\")[\"mpg\"].mean()\n",
    "\n",
    "print(mean)\n",
    "\n",
    "                               "
   ]
  },
  {
   "cell_type": "code",
   "execution_count": 43,
   "id": "38747511-8c5a-4fad-97cc-e6d81ab1d0a7",
   "metadata": {},
   "outputs": [
    {
     "name": "stdout",
     "output_type": "stream",
     "text": [
      "      mpg  cylinders  displacement  horsepower  weight  acceleration  \\\n",
      "322  46.6          4          86.0        65.0    2110          17.9   \n",
      "329  44.6          4          91.0        67.0    1850          13.8   \n",
      "325  44.3          4          90.0        48.0    2085          21.7   \n",
      "394  44.0          4          97.0        52.0    2130          24.6   \n",
      "326  43.4          4          90.0        48.0    2335          23.7   \n",
      "244  43.1          4          90.0        48.0    1985          21.5   \n",
      "309  41.5          4          98.0        76.0    2144          14.7   \n",
      "330  40.9          4          85.0         NaN    1835          17.3   \n",
      "324  40.8          4          85.0        65.0    2110          19.2   \n",
      "247  39.4          4          85.0        70.0    2070          18.6   \n",
      "\n",
      "     model year  origin                         car name  \\\n",
      "322          80       3                        mazda glc   \n",
      "329          80       3              honda civic 1500 gl   \n",
      "325          80       2             vw rabbit c (diesel)   \n",
      "394          82       2                        vw pickup   \n",
      "326          80       2               vw dasher (diesel)   \n",
      "244          78       2  volkswagen rabbit custom diesel   \n",
      "309          80       2                        vw rabbit   \n",
      "330          80       2             renault lecar deluxe   \n",
      "324          80       3                       datsun 210   \n",
      "247          78       3                   datsun b210 gx   \n",
      "\n",
      "     power-to weight_ratio  power_to_weight_ratio  \n",
      "322               0.030806               0.030806  \n",
      "329               0.036216               0.036216  \n",
      "325               0.023022               0.023022  \n",
      "394               0.024413               0.024413  \n",
      "326               0.020557               0.020557  \n",
      "244               0.024181               0.024181  \n",
      "309               0.035448               0.035448  \n",
      "330                    NaN                    NaN  \n",
      "324               0.030806               0.030806  \n",
      "247               0.033816               0.033816  \n"
     ]
    }
   ],
   "source": [
    "# Question 6\n",
    "\n",
    "top = df.sort_values(by= \"mpg\",ascending = False).head(10)\n",
    "\n",
    "print(top)"
   ]
  },
  {
   "cell_type": "code",
   "execution_count": 50,
   "id": "8ab1e18a-d326-4443-bafe-106bf1bef829",
   "metadata": {},
   "outputs": [
    {
     "name": "stdout",
     "output_type": "stream",
     "text": [
      "    mpg  cylinders  displacement  horsepower  weight  acceleration  \\\n",
      "0  18.0          8         307.0       130.0    3504          12.0   \n",
      "1  15.0          8         350.0       165.0    3693          11.5   \n",
      "2  18.0          8         318.0       150.0    3436          11.0   \n",
      "3  16.0          8         304.0       150.0    3433          12.0   \n",
      "4  17.0          8         302.0       140.0    3449          10.5   \n",
      "\n",
      "   model year  origin                   car name  power-to weight_ratio  \\\n",
      "0          70       1  chevrolet chevelle malibu               0.037100   \n",
      "1          70       1          buick skylark 320               0.044679   \n",
      "2          70       1         plymouth satellite               0.043655   \n",
      "3          70       1              amc rebel sst               0.043694   \n",
      "4          70       1                ford torino               0.040591   \n",
      "\n",
      "   power_to_weight_ratio         a  performance  performance_score  \n",
      "0               0.037100  0.061644     0.061644           0.061644  \n",
      "1               0.044679  0.046710     0.046710           0.046710  \n",
      "2               0.043655  0.057625     0.057625           0.057625  \n",
      "3               0.043694  0.055928     0.055928           0.055928  \n",
      "4               0.040591  0.051754     0.051754           0.051754  \n"
     ]
    }
   ],
   "source": [
    "# Question 7\n",
    "\n",
    "def performance_score(row):\n",
    "    return row[\"mpg\"]* row[\"acceleration\"] / row[\"weight\"]\n",
    "\n",
    "df[\"performance_score\"] = df.apply(a,axis = 1)\n",
    "print(df.head())"
   ]
  },
  {
   "cell_type": "code",
   "execution_count": 49,
   "id": "cb510fb0-e253-4179-8dd1-d9dc24f8d6b6",
   "metadata": {},
   "outputs": [
    {
     "name": "stdout",
     "output_type": "stream",
     "text": [
      "    model year        mpg       weight  horsepower\n",
      "0           70  17.689655  3372.793103  147.827586\n",
      "1           71  21.250000  2995.428571  107.037037\n",
      "2           72  18.714286  3237.714286  120.178571\n",
      "3           73  17.100000  3419.025000  130.475000\n",
      "4           74  22.703704  2877.925926   94.230769\n",
      "5           75  20.266667  3176.800000  101.066667\n",
      "6           76  21.573529  3078.735294  101.117647\n",
      "7           77  23.375000  2997.357143  105.071429\n",
      "8           78  24.061111  2861.805556   99.694444\n",
      "9           79  25.093103  3055.344828  101.206897\n",
      "10          80  33.696552  2436.655172   77.481481\n",
      "11          81  30.334483  2522.931034   81.035714\n",
      "12          82  31.709677  2453.548387   81.466667\n"
     ]
    }
   ],
   "source": [
    "# Question 8\n",
    "\n",
    "summary = df.groupby(\"model year\").agg({\n",
    "    \"mpg\":\"mean\",\n",
    "    \"weight\":\"mean\",\n",
    "    \"horsepower\":\"mean\"\n",
    "}).reset_index()\n",
    "\n",
    "print(summary)\n",
    "    \n",
    "                                          "
   ]
  },
  {
   "cell_type": "code",
   "execution_count": 51,
   "id": "ba85441b-1524-469b-ba88-c01f6f71be69",
   "metadata": {},
   "outputs": [],
   "source": [
    "# Question 9\n",
    "\n",
    "high_mpg_cars = df[df[\"mpg\"]>30][[\"mpg\",\"cylinders\", \"horsepower\",\"weight\"]]\n",
    "high_mpg_cars.to_csv(\"high_mpg_cars.csv\",index = False)\n",
    "\n"
   ]
  },
  {
   "cell_type": "code",
   "execution_count": 54,
   "id": "b8a28aee-6123-4562-bde6-56ce947ad5cf",
   "metadata": {},
   "outputs": [
    {
     "name": "stdout",
     "output_type": "stream",
     "text": [
      "      car name   mpg  model year\n",
      "322  mazda glc  46.6          80\n"
     ]
    }
   ],
   "source": [
    "# Question 10\n",
    "\n",
    "q1 = df[\"mpg\"].quantile(0.25)\n",
    "q3 = df[\"mpg\"].quantile(0.75)\n",
    "iqr = q3-q1\n",
    "\n",
    "outliers = df[(df[\"mpg\"] <(q1- 1.5 * iqr)) | (df[\"mpg\"] >(q3+1.5* iqr))]\n",
    "outliers_df = outliers[[\"car name\",\"mpg\", \"model year\"]]\n",
    "print(outliers_df)"
   ]
  },
  {
   "cell_type": "code",
   "execution_count": null,
   "id": "f09e5a4c-05a5-4db5-855d-7f5b0f9e7467",
   "metadata": {},
   "outputs": [],
   "source": []
  }
 ],
 "metadata": {
  "kernelspec": {
   "display_name": "Python 3 (ipykernel)",
   "language": "python",
   "name": "python3"
  },
  "language_info": {
   "codemirror_mode": {
    "name": "ipython",
    "version": 3
   },
   "file_extension": ".py",
   "mimetype": "text/x-python",
   "name": "python",
   "nbconvert_exporter": "python",
   "pygments_lexer": "ipython3",
   "version": "3.13.2"
  }
 },
 "nbformat": 4,
 "nbformat_minor": 5
}
